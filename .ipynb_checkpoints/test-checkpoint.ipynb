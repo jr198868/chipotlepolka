{
 "cells": [
  {
   "cell_type": "code",
   "execution_count": 1,
   "id": "e9d91808-986f-4e7b-9d28-8b31033688fc",
   "metadata": {},
   "outputs": [],
   "source": [
    "from chipotlepolka import *"
   ]
  },
  {
   "cell_type": "code",
   "execution_count": 2,
   "id": "38a95c85-aa02-41a9-a73a-b022ccccf1c7",
   "metadata": {},
   "outputs": [
    {
     "name": "stdout",
     "output_type": "stream",
     "text": [
      "rows:7,columns:8\n"
     ]
    },
    {
     "ename": "NameError",
     "evalue": "name 'savedataa' is not defined",
     "output_type": "error",
     "traceback": [
      "\u001b[0;31m---------------------------------------------------------------------------\u001b[0m",
      "\u001b[0;31mNameError\u001b[0m                                 Traceback (most recent call last)",
      "\u001b[0;32m/var/folders/yz/pljzrpgs69b_hfblgrz3bqvr0000gn/T/ipykernel_79820/3092094878.py\u001b[0m in \u001b[0;36m<module>\u001b[0;34m\u001b[0m\n\u001b[1;32m      3\u001b[0m \u001b[0mresult\u001b[0m \u001b[0;34m=\u001b[0m \u001b[0mparse_csv\u001b[0m\u001b[0;34m.\u001b[0m\u001b[0mread_csv\u001b[0m\u001b[0;34m(\u001b[0m\u001b[0mdata\u001b[0m\u001b[0;34m)\u001b[0m\u001b[0;34m\u001b[0m\u001b[0;34m\u001b[0m\u001b[0m\n\u001b[1;32m      4\u001b[0m \u001b[0;34m\u001b[0m\u001b[0m\n\u001b[0;32m----> 5\u001b[0;31m \u001b[0msavedataa\u001b[0m\u001b[0;34m.\u001b[0m\u001b[0msavetolist\u001b[0m\u001b[0;34m(\u001b[0m\u001b[0;34m'/Users/ranjing/Desktop/test2.csv'\u001b[0m\u001b[0;34m,\u001b[0m \u001b[0mresult\u001b[0m\u001b[0;34m)\u001b[0m\u001b[0;34m\u001b[0m\u001b[0;34m\u001b[0m\u001b[0m\n\u001b[0m\u001b[1;32m      6\u001b[0m \u001b[0;34m\u001b[0m\u001b[0m\n\u001b[1;32m      7\u001b[0m \u001b[0mprint\u001b[0m\u001b[0;34m(\u001b[0m\u001b[0mresult\u001b[0m\u001b[0;34m)\u001b[0m\u001b[0;34m\u001b[0m\u001b[0;34m\u001b[0m\u001b[0m\n",
      "\u001b[0;31mNameError\u001b[0m: name 'savedataa' is not defined"
     ]
    }
   ],
   "source": [
    "data = '/Users/ranjing/Desktop/test.csv'\n",
    "\n",
    "result = parse_csv.read_csv(data)\n",
    "\n",
    "savedata.savetolist('/Users/ranjing/Desktop/test2.csv', result)\n",
    "\n",
    "print(result)"
   ]
  },
  {
   "cell_type": "code",
   "execution_count": null,
   "id": "f370cf6c-4f27-4954-94f4-c889ce0b4f07",
   "metadata": {},
   "outputs": [],
   "source": []
  },
  {
   "cell_type": "code",
   "execution_count": null,
   "id": "65fcc500-6570-48a5-b972-da46560342cf",
   "metadata": {},
   "outputs": [],
   "source": []
  },
  {
   "cell_type": "code",
   "execution_count": null,
   "id": "932244bd-7cb3-4a3b-a6f6-f3c7de873eb0",
   "metadata": {},
   "outputs": [],
   "source": []
  }
 ],
 "metadata": {
  "kernelspec": {
   "display_name": "Python 3 (ipykernel)",
   "language": "python",
   "name": "python3"
  },
  "language_info": {
   "codemirror_mode": {
    "name": "ipython",
    "version": 3
   },
   "file_extension": ".py",
   "mimetype": "text/x-python",
   "name": "python",
   "nbconvert_exporter": "python",
   "pygments_lexer": "ipython3",
   "version": "3.8.12"
  }
 },
 "nbformat": 4,
 "nbformat_minor": 5
}
