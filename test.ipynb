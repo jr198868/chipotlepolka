{
 "cells": [
  {
   "cell_type": "code",
   "execution_count": 19,
   "id": "e9d91808-986f-4e7b-9d28-8b31033688fc",
   "metadata": {},
   "outputs": [
    {
     "name": "stdout",
     "output_type": "stream",
     "text": [
      "Help on module chipotlepolka:\n",
      "\n",
      "NAME\n",
      "    chipotlepolka\n",
      "\n",
      "CLASSES\n",
      "    builtins.object\n",
      "        cleandata\n",
      "        datatransfer\n",
      "        parse_data\n",
      "        savedata\n",
      "    \n",
      "    class cleandata(builtins.object)\n",
      "     |  Methods defined here:\n",
      "     |  \n",
      "     |  keep_decimal(num, k)\n",
      "     |  \n",
      "     |  ----------------------------------------------------------------------\n",
      "     |  Data descriptors defined here:\n",
      "     |  \n",
      "     |  __dict__\n",
      "     |      dictionary for instance variables (if defined)\n",
      "     |  \n",
      "     |  __weakref__\n",
      "     |      list of weak references to the object (if defined)\n",
      "    \n",
      "    class datatransfer(builtins.object)\n",
      "     |  Methods defined here:\n",
      "     |  \n",
      "     |  csv_to_excel(csv_file, excelfile_path)\n",
      "     |  \n",
      "     |  csv_to_json(csv_file, jsonfile_path)\n",
      "     |  \n",
      "     |  xls_to_csv(excel_file, csvfile_path)\n",
      "     |  \n",
      "     |  ----------------------------------------------------------------------\n",
      "     |  Data descriptors defined here:\n",
      "     |  \n",
      "     |  __dict__\n",
      "     |      dictionary for instance variables (if defined)\n",
      "     |  \n",
      "     |  __weakref__\n",
      "     |      list of weak references to the object (if defined)\n",
      "    \n",
      "    class parse_data(builtins.object)\n",
      "     |  Methods defined here:\n",
      "     |  \n",
      "     |  read_csv(csv_file)\n",
      "     |  \n",
      "     |  read_fasta(input_fasta)\n",
      "     |  \n",
      "     |  read_json(json_file)\n",
      "     |  \n",
      "     |  ----------------------------------------------------------------------\n",
      "     |  Data descriptors defined here:\n",
      "     |  \n",
      "     |  __dict__\n",
      "     |      dictionary for instance variables (if defined)\n",
      "     |  \n",
      "     |  __weakref__\n",
      "     |      list of weak references to the object (if defined)\n",
      "    \n",
      "    class savedata(builtins.object)\n",
      "     |  Methods defined here:\n",
      "     |  \n",
      "     |  savetojson(path, target_dict)\n",
      "     |  \n",
      "     |  savetolist(path, target_list)\n",
      "     |  \n",
      "     |  ----------------------------------------------------------------------\n",
      "     |  Data descriptors defined here:\n",
      "     |  \n",
      "     |  __dict__\n",
      "     |      dictionary for instance variables (if defined)\n",
      "     |  \n",
      "     |  __weakref__\n",
      "     |      list of weak references to the object (if defined)\n",
      "\n",
      "FILE\n",
      "    /Users/ranjing/Desktop/chipotlepolka/chipotlepolka.py\n",
      "\n",
      "\n"
     ]
    }
   ],
   "source": [
    "from chipotlepolka import *\n",
    "import chipotlepolka\n",
    "help(chipotlepolka)"
   ]
  },
  {
   "cell_type": "code",
   "execution_count": 4,
   "id": "19958cd8-be87-4ffa-88f2-81e1d3c327b1",
   "metadata": {},
   "outputs": [
    {
     "name": "stdout",
     "output_type": "stream",
     "text": [
      "0.43\n"
     ]
    }
   ],
   "source": [
    "result = cleandata.keep_decimal('0.4333333', 2)\n",
    "print(result)"
   ]
  },
  {
   "cell_type": "code",
   "execution_count": 2,
   "id": "38a95c85-aa02-41a9-a73a-b022ccccf1c7",
   "metadata": {},
   "outputs": [],
   "source": [
    "#data = '/Users/ranjing/Desktop/chipotlepolka/test.faa'\n",
    "data = '/Users/ranjing/Desktop/chipotlepolka/test.csv'\n",
    "#data = '/Users/ranjing/Desktop/chipotlepolka/test.xls'\n",
    "\n",
    "datatransfer.csv_to_json(data, '/Users/ranjing/Desktop/result.json')\n",
    "#result = parse_data.read_csv(data)\n",
    "\n",
    "#savedata.savetolist('/Users/ranjing/Desktop/test2.csv', result)\n",
    "\n"
   ]
  },
  {
   "cell_type": "code",
   "execution_count": 3,
   "id": "f370cf6c-4f27-4954-94f4-c889ce0b4f07",
   "metadata": {},
   "outputs": [],
   "source": [
    "dictionary ={ \n",
    "  \"id\": \"04\", \n",
    "  \"name\": \"sunil\", \n",
    "  \"department\": \"HR\"\n",
    "} \n",
    "      \n",
    "# Serializing json  \n",
    "savedata.savetojson('/Users/ranjing/Desktop/test2.json', dictionary)"
   ]
  },
  {
   "cell_type": "code",
   "execution_count": null,
   "id": "65fcc500-6570-48a5-b972-da46560342cf",
   "metadata": {},
   "outputs": [],
   "source": []
  },
  {
   "cell_type": "code",
   "execution_count": null,
   "id": "932244bd-7cb3-4a3b-a6f6-f3c7de873eb0",
   "metadata": {},
   "outputs": [],
   "source": []
  }
 ],
 "metadata": {
  "kernelspec": {
   "display_name": "Python 3 (ipykernel)",
   "language": "python",
   "name": "python3"
  },
  "language_info": {
   "codemirror_mode": {
    "name": "ipython",
    "version": 3
   },
   "file_extension": ".py",
   "mimetype": "text/x-python",
   "name": "python",
   "nbconvert_exporter": "python",
   "pygments_lexer": "ipython3",
   "version": "3.8.12"
  }
 },
 "nbformat": 4,
 "nbformat_minor": 5
}
